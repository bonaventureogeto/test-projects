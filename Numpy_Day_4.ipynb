{
 "cells": [
  {
   "cell_type": "code",
   "execution_count": 29,
   "metadata": {
    "collapsed": true
   },
   "outputs": [],
   "source": [
    "# 46. Create a structured array with x and y coordinates covering the [0,1]x[0,1] area\n",
    "import numpy as np\n",
    "points = np.zeros((10,10),dtype = [(\"x_cord\",\"f8\"),(\"y_cord\",\"f8\")])\n",
    "x = np.linspace(0,1,10)\n",
    "y = np.linspace(0,1,10)\n",
    "points[\"x_cord\"],points[\"y_cord\"] = np.meshgrid(x,y)"
   ]
  },
  {
   "cell_type": "code",
   "execution_count": 31,
   "metadata": {},
   "outputs": [
    {
     "name": "stdout",
     "output_type": "stream",
     "text": [
      "-131.916595013\n"
     ]
    }
   ],
   "source": [
    "#47. Given two arrays, X and Y, construct the Cauchy matrix C (Cij =1/(xi - yj))\n",
    "a = np.arange(5)\n",
    "b = X + 0.5\n",
    "c = 1.0 / np.subtract.outer(a,b)\n",
    "print(np.linalg.det(c))"
   ]
  },
  {
   "cell_type": "code",
   "execution_count": 32,
   "metadata": {},
   "outputs": [
    {
     "name": "stdout",
     "output_type": "stream",
     "text": [
      "-128\n",
      "127\n",
      "-2147483648\n",
      "2147483647\n",
      "-9223372036854775808\n",
      "9223372036854775807\n",
      "-3.40282e+38\n",
      "3.40282e+38\n",
      "-1.79769313486e+308\n",
      "1.79769313486e+308\n"
     ]
    }
   ],
   "source": [
    "#48. Print the minimum and maximum representable value for each numpy scalar type \n",
    "for i in [np.int8, np.int32, np.int64]:\n",
    "   print(np.iinfo(i).min)\n",
    "   print(np.iinfo(i).max)\n",
    "for i in [np.float32, np.float64]:\n",
    "   print(np.finfo(i).min)\n",
    "   print(np.finfo(i).max)\n",
    " "
   ]
  },
  {
   "cell_type": "code",
   "execution_count": 35,
   "metadata": {},
   "outputs": [
    {
     "name": "stdout",
     "output_type": "stream",
     "text": [
      "[[ 0.  0.  0.]\n",
      " [ 0.  0.  0.]\n",
      " [ 0.  0.  0.]]\n"
     ]
    }
   ],
   "source": [
    "#49. How to print all the values of an array?\n",
    "#np.set_printoptions(threshold=np.nan)\n",
    "Z = np.zeros((3,3))\n",
    "print(Z)"
   ]
  },
  {
   "cell_type": "code",
   "execution_count": 37,
   "metadata": {},
   "outputs": [
    {
     "name": "stdout",
     "output_type": "stream",
     "text": [
      "33\n"
     ]
    }
   ],
   "source": [
    "#50. How to find the closest value (to a given scalar) in a vector?\n",
    "Z = np.arange(100)\n",
    "v = np.random.uniform(0,100)\n",
    "index = (np.abs(Z-v)).argmin()\n",
    "print(Z[index])"
   ]
  },
  {
   "cell_type": "code",
   "execution_count": 48,
   "metadata": {},
   "outputs": [
    {
     "data": {
      "text/plain": [
       "array([[(( 0.,  0.), ( 0.,  0.)), (( 0.,  0.), ( 0.,  0.)),\n",
       "        (( 0.,  0.), ( 0.,  0.))]],\n",
       "      dtype=[('position', [('x', '<f8'), ('y', '<f8')]), ('color', [('x', '<f8'), ('y', '<f8')])])"
      ]
     },
     "execution_count": 48,
     "metadata": {},
     "output_type": "execute_result"
    }
   ],
   "source": [
    "#51. Create a structured array representing a position (x,y) and a color (r,g,b)\n",
    "rep = np.zeros((1,3),dtype= [(\"position\",[(\"x\",\"f8\"),(\"y\",\"f8\")]),(\"color\",[(\"x\",\"f8\"),(\"y\",\"f8\")])])\n",
    "rep"
   ]
  },
  {
   "cell_type": "code",
   "execution_count": 61,
   "metadata": {
    "collapsed": true
   },
   "outputs": [],
   "source": [
    "#52. Consider a random vector with shape (100,2) representing coordinates, \n",
    "#find point by point distances\n",
    "import random\n",
    "x = np.random.random((10,2))\n",
    "X,Y = np.atleast_2d(x[:,0], x[:,1])\n",
    "D = np.sqrt( (X-X.T)**2 + (Y-Y.T)**2)\n",
    "#D"
   ]
  },
  {
   "cell_type": "code",
   "execution_count": 64,
   "metadata": {},
   "outputs": [
    {
     "data": {
      "text/plain": [
       "array([0, 1, 2, 3, 4, 5, 6, 7, 8, 9], dtype=int32)"
      ]
     },
     "execution_count": 64,
     "metadata": {},
     "output_type": "execute_result"
    }
   ],
   "source": [
    "#53. How to convert a float (32 bits) array into an integer (32 bits) in place?\n",
    "a = np.arange(10, dtype=np.float32)\n",
    "a = a.astype(np.int32, copy=False)\n",
    "a"
   ]
  },
  {
   "cell_type": "code",
   "execution_count": 65,
   "metadata": {
    "collapsed": true
   },
   "outputs": [],
   "source": [
    "#54. How to read the following file? \n"
   ]
  },
  {
   "cell_type": "code",
   "execution_count": 66,
   "metadata": {},
   "outputs": [
    {
     "name": "stdout",
     "output_type": "stream",
     "text": [
      "(0,) 1\n",
      "(1,) 2\n",
      "(2,) 3\n",
      "(3,) 4\n",
      "(4,) 5\n",
      "(5,) 6\n",
      "(6,) 7\n",
      "(7,) 8\n",
      "(8,) 9\n"
     ]
    }
   ],
   "source": [
    "#55. What is the equivalent of enumerate for numpy arrays?\n",
    "x = np.arange(1,10)\n",
    "for index, value in np.ndenumerate(x):\n",
    "    print(index, value)"
   ]
  },
  {
   "cell_type": "code",
   "execution_count": 67,
   "metadata": {},
   "outputs": [
    {
     "data": {
      "text/plain": [
       "array([[ 0.36787944,  0.44822088,  0.51979489,  0.57375342,  0.60279818,\n",
       "         0.60279818,  0.57375342,  0.51979489,  0.44822088,  0.36787944],\n",
       "       [ 0.44822088,  0.54610814,  0.63331324,  0.69905581,  0.73444367,\n",
       "         0.73444367,  0.69905581,  0.63331324,  0.54610814,  0.44822088],\n",
       "       [ 0.51979489,  0.63331324,  0.73444367,  0.81068432,  0.85172308,\n",
       "         0.85172308,  0.81068432,  0.73444367,  0.63331324,  0.51979489],\n",
       "       [ 0.57375342,  0.69905581,  0.81068432,  0.89483932,  0.9401382 ,\n",
       "         0.9401382 ,  0.89483932,  0.81068432,  0.69905581,  0.57375342],\n",
       "       [ 0.60279818,  0.73444367,  0.85172308,  0.9401382 ,  0.98773022,\n",
       "         0.98773022,  0.9401382 ,  0.85172308,  0.73444367,  0.60279818],\n",
       "       [ 0.60279818,  0.73444367,  0.85172308,  0.9401382 ,  0.98773022,\n",
       "         0.98773022,  0.9401382 ,  0.85172308,  0.73444367,  0.60279818],\n",
       "       [ 0.57375342,  0.69905581,  0.81068432,  0.89483932,  0.9401382 ,\n",
       "         0.9401382 ,  0.89483932,  0.81068432,  0.69905581,  0.57375342],\n",
       "       [ 0.51979489,  0.63331324,  0.73444367,  0.81068432,  0.85172308,\n",
       "         0.85172308,  0.81068432,  0.73444367,  0.63331324,  0.51979489],\n",
       "       [ 0.44822088,  0.54610814,  0.63331324,  0.69905581,  0.73444367,\n",
       "         0.73444367,  0.69905581,  0.63331324,  0.54610814,  0.44822088],\n",
       "       [ 0.36787944,  0.44822088,  0.51979489,  0.57375342,  0.60279818,\n",
       "         0.60279818,  0.57375342,  0.51979489,  0.44822088,  0.36787944]])"
      ]
     },
     "execution_count": 67,
     "metadata": {},
     "output_type": "execute_result"
    }
   ],
   "source": [
    "#56. Generate a generic 2D Gaussian-like array\n",
    "X, Y = np.meshgrid(np.linspace(-1,1,10), np.linspace(-1,1,10))\n",
    "D = np.sqrt(X*X+Y*Y)\n",
    "sigma, mu = 1.0, 0.0\n",
    "G = np.exp(-( (D-mu)**2 / ( 2.0 * sigma**2 ) ) )\n",
    "G"
   ]
  },
  {
   "cell_type": "code",
   "execution_count": 69,
   "metadata": {},
   "outputs": [
    {
     "data": {
      "text/plain": [
       "array([[ 0.,  0.,  0.,  0.,  0.,  0.,  0.,  0.,  0.,  0.],\n",
       "       [ 0.,  0.,  0.,  0.,  0.,  0.,  0.,  0.,  0.,  0.],\n",
       "       [ 0.,  0.,  0.,  0.,  0.,  0.,  0.,  0.,  1.,  0.],\n",
       "       [ 0.,  0.,  0.,  0.,  0.,  0.,  0.,  0.,  0.,  0.],\n",
       "       [ 0.,  0.,  0.,  0.,  0.,  0.,  0.,  0.,  0.,  0.],\n",
       "       [ 0.,  0.,  0.,  1.,  0.,  0.,  0.,  0.,  0.,  0.],\n",
       "       [ 0.,  0.,  0.,  0.,  0.,  0.,  0.,  0.,  0.,  0.],\n",
       "       [ 0.,  0.,  0.,  1.,  0.,  0.,  0.,  0.,  0.,  0.],\n",
       "       [ 0.,  0.,  0.,  0.,  0.,  0.,  0.,  0.,  0.,  0.],\n",
       "       [ 0.,  0.,  0.,  0.,  0.,  0.,  0.,  0.,  0.,  0.]])"
      ]
     },
     "execution_count": 69,
     "metadata": {},
     "output_type": "execute_result"
    }
   ],
   "source": [
    "#57. How to randomly place p elements in a 2D array?\n",
    "n = 10\n",
    "p = 3\n",
    "Z = np.zeros((n,n))\n",
    "np.put(Z, np.random.choice(range(n*n), p, replace=False),1)\n",
    "Z"
   ]
  },
  {
   "cell_type": "code",
   "execution_count": 70,
   "metadata": {},
   "outputs": [
    {
     "data": {
      "text/plain": [
       "array([[-0.14355548, -0.60843253, -0.20165568,  0.14755055,  0.05556163,\n",
       "        -0.06340249,  0.26519092,  0.06566385,  0.201975  ,  0.28110423],\n",
       "       [-0.1178283 ,  0.40457193, -0.22086276,  0.2566804 , -0.06993878,\n",
       "        -0.3626723 ,  0.20406706,  0.36077674, -0.04412591, -0.41066809],\n",
       "       [ 0.14625015, -0.12136313, -0.07397896, -0.23390042,  0.41932837,\n",
       "         0.15965819, -0.11839612,  0.17708939, -0.14471891, -0.20996855],\n",
       "       [-0.35631107,  0.20970707,  0.45369563,  0.21764281, -0.43993481,\n",
       "        -0.22458108, -0.07850523, -0.38636471,  0.52477919,  0.0798722 ],\n",
       "       [-0.0846937 ,  0.09675897,  0.34438484,  0.1334013 , -0.30623261,\n",
       "         0.19690856, -0.22337626, -0.14718591,  0.27422088, -0.28418607]])"
      ]
     },
     "execution_count": 70,
     "metadata": {},
     "output_type": "execute_result"
    }
   ],
   "source": [
    "#58. Subtract the mean of each row of a matrix\n",
    "\n",
    "X = np.random.rand(5, 10)\n",
    "Y = X - X.mean(axis=1).reshape(-1, 1)\n",
    "Y"
   ]
  },
  {
   "cell_type": "code",
   "execution_count": 101,
   "metadata": {
    "scrolled": true
   },
   "outputs": [
    {
     "data": {
      "text/plain": [
       "array([1, 0, 2])"
      ]
     },
     "execution_count": 101,
     "metadata": {},
     "output_type": "execute_result"
    }
   ],
   "source": [
    "#59. How to sort an array by the nth column?\n",
    "from numpy import random\n",
    "x = random.rand(3, 5)\n",
    "x\n",
    "x[:,1].argsort()\n",
    "#np.sort(x,axis=0)"
   ]
  },
  {
   "cell_type": "code",
   "execution_count": 102,
   "metadata": {},
   "outputs": [
    {
     "data": {
      "text/plain": [
       "True"
      ]
     },
     "execution_count": 102,
     "metadata": {},
     "output_type": "execute_result"
    }
   ],
   "source": [
    "#60. How to tell if a given 2D array has null columns?\n",
    "x = np.arange(0,10).reshape(2,5)\n",
    "np.any(x,axis = 0).any()"
   ]
  },
  {
   "cell_type": "code",
   "execution_count": null,
   "metadata": {
    "collapsed": true
   },
   "outputs": [],
   "source": []
  }
 ],
 "metadata": {
  "kernelspec": {
   "display_name": "Python 3",
   "language": "python",
   "name": "python3"
  },
  "language_info": {
   "codemirror_mode": {
    "name": "ipython",
    "version": 3
   },
   "file_extension": ".py",
   "mimetype": "text/x-python",
   "name": "python",
   "nbconvert_exporter": "python",
   "pygments_lexer": "ipython3",
   "version": "3.6.3"
  }
 },
 "nbformat": 4,
 "nbformat_minor": 2
}
