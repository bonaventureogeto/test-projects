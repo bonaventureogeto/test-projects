{
 "cells": [
  {
   "cell_type": "code",
   "execution_count": 61,
   "metadata": {},
   "outputs": [
    {
     "data": {
      "text/plain": [
       "0.8718039711370883"
      ]
     },
     "execution_count": 61,
     "metadata": {},
     "output_type": "execute_result"
    }
   ],
   "source": [
    "#61. Find the nearest value from a given value in an array\n",
    "import numpy as np\n",
    "array = np.random.random(20)\n",
    "array\n",
    "given_value = 50\n",
    "#diff between the given point and each array element\n",
    "diff = np.abs(array - given_value)\n",
    "#nearest will be the one with the min dist btwn\n",
    "nearest_index = np.argmin(diff)\n",
    "array[nearest_index]"
   ]
  },
  {
   "cell_type": "code",
   "execution_count": 125,
   "metadata": {},
   "outputs": [
    {
     "name": "stdout",
     "output_type": "stream",
     "text": [
      "0\n",
      "1\n",
      "2\n",
      "1\n",
      "2\n",
      "3\n",
      "2\n",
      "3\n",
      "4\n"
     ]
    }
   ],
   "source": [
    "#62. Considering two arrays with shape (1,3) and (3,1), \n",
    "#how to compute their sum using an iterator?\n",
    "x = np.arange(3).reshape(1,3)\n",
    "y = np.arange(3).reshape(3,1)\n",
    "s = 0\n",
    "for (i,j) in np.nditer([x,y]):\n",
    "    s = np.add(i,j)\n",
    "    print(s)"
   ]
  },
  {
   "cell_type": "code",
   "execution_count": 126,
   "metadata": {},
   "outputs": [],
   "source": [
    "#63. Create an array class that has a name attribute\n",
    "# class Array:\n",
    "#     def __new__(self,array,name)\n",
    "#     def __init__(self,name,x_cord,y_cord):\n",
    "#         self.name\n",
    "#         self.x_cord\n",
    "#         self.y_cord\n",
    "# class NamedArray(np.ndarray):\n",
    "#     def __new__(cls, array, name=\"no name\"):\n",
    "#         obj = np.asarray(array).view(cls)\n",
    "#         obj.name = name\n",
    "#         return obj\n",
    "#     def __array_finalize__(self, obj):\n",
    "#         if obj is None: return\n",
    "#         self.info = getattr(obj, 'name', \"no name\")\n",
    "\n",
    "# Z = NamedArray(np.arange(10), \"range_10\")\n",
    "# print (Z.name)\n"
   ]
  },
  {
   "cell_type": "code",
   "execution_count": 127,
   "metadata": {},
   "outputs": [],
   "source": [
    "#64. Consider a given vector, \n",
    "#how to add 1 to each element indexed by a second vector (be careful with repeated indices)?\n",
    "a = np.random.randint(0,10,10)\n",
    "b = np.random.randint(0,len(a),10)\n",
    "np.add.at(a, b, 1)"
   ]
  },
  {
   "cell_type": "code",
   "execution_count": 5,
   "metadata": {},
   "outputs": [
    {
     "name": "stdout",
     "output_type": "stream",
     "text": [
      "[ 0.  7.  0.  6.  5.  0.  0.  0.  0.  3.]\n"
     ]
    }
   ],
   "source": [
    "#65. How to accumulate elements of a vector (X) to an array (F) based on an index list (I)?\n",
    "X = [1,2,3,4,5,6]\n",
    "I = [1,3,9,3,4,1]\n",
    "F = np.bincount(I,X)\n",
    "print(F)"
   ]
  },
  {
   "cell_type": "code",
   "execution_count": 128,
   "metadata": {},
   "outputs": [
    {
     "data": {
      "text/plain": [
       "4"
      ]
     },
     "execution_count": 128,
     "metadata": {},
     "output_type": "execute_result"
    }
   ],
   "source": [
    "#66. Considering a (w,h,3) image of (dtype=ubyte), \n",
    "#compute the number of unique colorsw,h = 16,16\n",
    "w,h = 16,16\n",
    "I = np.random.randint(0,2,(h,w,3)).astype(np.ubyte)\n",
    "F = I[...,0]*256*256 + I[...,1]*256 +I[...,2]\n",
    "n = len(np.unique(F))\n",
    "n"
   ]
  },
  {
   "cell_type": "code",
   "execution_count": 141,
   "metadata": {},
   "outputs": [
    {
     "name": "stdout",
     "output_type": "stream",
     "text": [
      "[[54 48 50 61]\n",
      " [52 64 80 40]\n",
      " [67 55 56 57]]\n"
     ]
    }
   ],
   "source": [
    "#67. Considering a four dimensions array, how to get sum over the last two axis at once?\n",
    "x = np.random.randint(0,10,(3,4,3,4))\n",
    "# solution by passing a tuple of axes (introduced in numpy 1.7.0)\n",
    "sum = x.sum(axis=(-2,-1))\n",
    "print(sum)"
   ]
  },
  {
   "cell_type": "code",
   "execution_count": 139,
   "metadata": {},
   "outputs": [
    {
     "name": "stdout",
     "output_type": "stream",
     "text": [
      "[ 0.50046797]\n"
     ]
    }
   ],
   "source": [
    "#68. Considering a one-dimensional vector D, \n",
    "#how to compute means of subsets of D using a vector S of same size describing subset indices?\n",
    "D = np.random.uniform(0,1,100)\n",
    "S = np.random.randint(0,1,100)\n",
    "D_sums = np.bincount(S, weights=D)\n",
    "D_counts = np.bincount(S)\n",
    "D_means = D_sums / D_counts\n",
    "print(D_means)"
   ]
  },
  {
   "cell_type": "code",
   "execution_count": 10,
   "metadata": {},
   "outputs": [
    {
     "data": {
      "text/plain": [
       "array([ 1.11326357,  1.60269295,  1.30213843,  1.14415968,  0.93193301])"
      ]
     },
     "execution_count": 10,
     "metadata": {},
     "output_type": "execute_result"
    }
   ],
   "source": [
    "#69. How to get the diagonal of a dot product? \n",
    "x = np.random.uniform(0,1,(5,5))\n",
    "y = np.random.uniform(0,1,(5,5))\n",
    "np.diag(np.dot(x, y))"
   ]
  },
  {
   "cell_type": "code",
   "execution_count": 148,
   "metadata": {},
   "outputs": [
    {
     "data": {
      "text/plain": [
       "array([ 1.,  0.,  0.,  0.,  2.,  0.,  0.,  0.,  3.,  0.,  0.,  0.,  4.,\n",
       "        0.,  0.,  0.,  5.])"
      ]
     },
     "execution_count": 148,
     "metadata": {},
     "output_type": "execute_result"
    }
   ],
   "source": [
    "#70. Consider the vector [1, 2, 3, 4, 5], \n",
    "#how to build a new vector with 3 consecutive zeros interleaved between each value?\n",
    "a = np.array([1,2,3,4,5])\n",
    "b = 3\n",
    "c = np.zeros(len(a) + (len(a)-1)*(b))\n",
    "c[::b+1] = a\n",
    "c"
   ]
  },
  {
   "cell_type": "code",
   "execution_count": 149,
   "metadata": {},
   "outputs": [
    {
     "name": "stdout",
     "output_type": "stream",
     "text": [
      "[[[ 2.  2.  2.]\n",
      "  [ 2.  2.  2.]\n",
      "  [ 2.  2.  2.]\n",
      "  [ 2.  2.  2.]\n",
      "  [ 2.  2.  2.]]\n",
      "\n",
      " [[ 2.  2.  2.]\n",
      "  [ 2.  2.  2.]\n",
      "  [ 2.  2.  2.]\n",
      "  [ 2.  2.  2.]\n",
      "  [ 2.  2.  2.]]\n",
      "\n",
      " [[ 2.  2.  2.]\n",
      "  [ 2.  2.  2.]\n",
      "  [ 2.  2.  2.]\n",
      "  [ 2.  2.  2.]\n",
      "  [ 2.  2.  2.]]\n",
      "\n",
      " [[ 2.  2.  2.]\n",
      "  [ 2.  2.  2.]\n",
      "  [ 2.  2.  2.]\n",
      "  [ 2.  2.  2.]\n",
      "  [ 2.  2.  2.]]\n",
      "\n",
      " [[ 2.  2.  2.]\n",
      "  [ 2.  2.  2.]\n",
      "  [ 2.  2.  2.]\n",
      "  [ 2.  2.  2.]\n",
      "  [ 2.  2.  2.]]]\n"
     ]
    }
   ],
   "source": [
    "#71. Consider an array of dimension (5,5,3), \n",
    "#how to mulitply it by an array with dimensions (5,5)?\n",
    "A = np.ones((5,5,3))\n",
    "B = 2*np.ones((5,5))\n",
    "print(A * B[:,:,None])"
   ]
  },
  {
   "cell_type": "code",
   "execution_count": 13,
   "metadata": {},
   "outputs": [
    {
     "name": "stdout",
     "output_type": "stream",
     "text": [
      "[[ 0.49009037  0.87260438  0.26806575  0.43416441  0.99858532]\n",
      " [ 0.47486085  0.45927409  0.78451465  0.09245035  0.50486312]\n",
      " [ 0.91072883  0.0692115   0.88433196  0.86072846  0.50059189]\n",
      " [ 0.07930913  0.44191994  0.89732277  0.6578872   0.99815622]\n",
      " [ 0.08646073  0.60790375  0.97742126  0.4712482   0.56373605]]\n"
     ]
    }
   ],
   "source": [
    "#72. How to swap two rows of an array?\n",
    "x = np.arange(25).reshape(5,5)\n",
    "y[[0,1]] = y[[1,0]]\n",
    "print(y)\n"
   ]
  },
  {
   "cell_type": "code",
   "execution_count": 150,
   "metadata": {},
   "outputs": [
    {
     "data": {
      "text/plain": [
       "array([( 5, 28), ( 5, 50), ( 5, 51), ( 5, 52), (12, 63), (12, 71),\n",
       "       (15, 42), (15, 94), (25, 43), (25, 65), (28, 50), (29, 36),\n",
       "       (29, 87), (36, 87), (38, 59), (38, 97), (42, 94), (43, 65),\n",
       "       (46, 68), (46, 85), (51, 52), (54, 73), (54, 92), (59, 97),\n",
       "       (60, 69), (60, 79), (63, 71), (68, 85), (69, 79), (73, 92)],\n",
       "      dtype=[('p0', '<i8'), ('p1', '<i8')])"
      ]
     },
     "execution_count": 150,
     "metadata": {},
     "output_type": "execute_result"
    }
   ],
   "source": [
    "#73. Consider a set of 10 triplets describing 10 triangles (with shared vertices), \n",
    "#find the set of unique line segments composing all the triangles\n",
    "faces = np.random.randint(0,100,(10,3))\n",
    "F = np.roll(faces.repeat(2,axis=1),-1,axis=1)\n",
    "F = F.reshape(len(F)*3,2)\n",
    "F = np.sort(F,axis=1)\n",
    "G = F.view( dtype=[('p0',F.dtype),('p1',F.dtype)] )\n",
    "G = np.unique(G)\n",
    "G"
   ]
  },
  {
   "cell_type": "code",
   "execution_count": 15,
   "metadata": {},
   "outputs": [
    {
     "name": "stdout",
     "output_type": "stream",
     "text": [
      "[1 1 2 3 4 4 6]\n"
     ]
    }
   ],
   "source": [
    "#74. Given a sorted array C that corresponds to a bincount, \n",
    "#how to produce an array A such that np.bincount(A) == C?\n",
    "C = np.bincount([1,1,2,3,4,4,6])\n",
    "A = np.repeat(np.arange(len(C)), C)\n",
    "print(A)"
   ]
  },
  {
   "cell_type": "code",
   "execution_count": 16,
   "metadata": {},
   "outputs": [
    {
     "name": "stdout",
     "output_type": "stream",
     "text": [
      "[  1.   2.   3.   4.   5.   6.   7.   8.   9.  10.  11.  12.  13.  14.  15.\n",
      "  16.  17.  18.]\n"
     ]
    }
   ],
   "source": [
    "#75. How to compute averages using a sliding window over an array?\n",
    "def moving_average(a, n=3) :\n",
    "    ret = np.cumsum(a, dtype=float)\n",
    "    ret[n:] = ret[n:] - ret[:-n]\n",
    "    return ret[n - 1:] / n\n",
    "Z = np.arange(20)\n",
    "print(moving_average(Z, n=3))"
   ]
  },
  {
   "cell_type": "code",
   "execution_count": 17,
   "metadata": {},
   "outputs": [
    {
     "name": "stdout",
     "output_type": "stream",
     "text": [
      "[[0 1 2]\n",
      " [1 2 3]\n",
      " [2 3 4]\n",
      " [3 4 5]\n",
      " [4 5 6]\n",
      " [5 6 7]\n",
      " [6 7 8]\n",
      " [7 8 9]]\n"
     ]
    }
   ],
   "source": [
    "#76. Consider a one-dimensional array Z, build a two-dimensional array whose first row is (Z[0],\n",
    "#Z[1],Z[2]) and each subsequent row is shifted by 1 (last row should be (Z[-3],Z[-2],Z[-1])\n",
    "from numpy.lib import stride_tricks\n",
    "\n",
    "def rolling(a, window):\n",
    "    shape = (a.size - window + 1, window)\n",
    "    strides = (a.itemsize, a.itemsize)\n",
    "    return stride_tricks.as_strided(a, shape=shape, strides=strides)\n",
    "Z = rolling(np.arange(10), 3)\n",
    "print(Z)"
   ]
  },
  {
   "cell_type": "code",
   "execution_count": 153,
   "metadata": {},
   "outputs": [
    {
     "data": {
      "text/plain": [
       "array([-0.56085576,  0.69030872, -0.41482387, -0.61219547,  0.5368501 ,\n",
       "       -0.88734006,  0.37706475,  0.92574429, -0.46664783, -0.50502175,\n",
       "       -0.25300476, -0.97607412, -0.52187913,  0.66627138,  0.99164243,\n",
       "        0.2095932 ,  0.80257644, -0.62979473,  0.894614  ,  0.86732688,\n",
       "       -0.02278741, -0.34123403,  0.09843623,  0.80108911,  0.94317365,\n",
       "        0.61238092, -0.60021426, -0.65232156,  0.17440649,  0.72002549,\n",
       "        0.99713236,  0.51424121, -0.15856743,  0.04437763,  0.11655027,\n",
       "        0.88798832,  0.72459095,  0.61645703, -0.3455285 , -0.96098748,\n",
       "       -0.21828856, -0.52752047, -0.28806773, -0.11801146, -0.99504627,\n",
       "        0.43808533, -0.72587565,  0.38176917, -0.30591226, -0.03689601,\n",
       "        0.19197563, -0.09415505,  0.11193157, -0.01005766, -0.79725233,\n",
       "       -0.30603386,  0.9914768 ,  0.65096518,  0.73313068, -0.8113519 ,\n",
       "       -0.66705224,  0.94049894,  0.60879683, -0.03723318, -0.02676411,\n",
       "       -0.93311522,  0.52378181, -0.42829076,  0.36427224,  0.35005616,\n",
       "       -0.9150058 , -0.52494264, -0.5593799 , -0.8128419 , -0.23967996,\n",
       "       -0.28193053, -0.47344386, -0.37909136,  0.36939598, -0.51565559,\n",
       "       -0.13923005, -0.00634489,  0.93802867,  0.09695725, -0.93487164,\n",
       "        0.47660361, -0.8233686 ,  0.2009481 ,  0.66846314, -0.47299817,\n",
       "       -0.21824246,  0.23694577, -0.26766293, -0.40403285,  0.71251814,\n",
       "       -0.54044509,  0.81642897, -0.96931722, -0.55296774,  0.99491478])"
      ]
     },
     "execution_count": 153,
     "metadata": {},
     "output_type": "execute_result"
    }
   ],
   "source": [
    "#77. How to negate a boolean, or to change the sign of a float inplace?\n",
    "a = np.random.randint(0,2,100)\n",
    "np.logical_not(a, out=a)\n",
    "a = np.random.uniform(-1.0,1.0,100)\n",
    "np.negative(a, out=a)"
   ]
  },
  {
   "cell_type": "code",
   "execution_count": 19,
   "metadata": {},
   "outputs": [
    {
     "name": "stdout",
     "output_type": "stream",
     "text": [
      "[  6.54537859   5.82058705   1.68295716   0.31672556   4.14254299\n",
      "   0.23949236   0.70915404   2.78962973  11.88180757  11.30369354]\n"
     ]
    }
   ],
   "source": [
    "#78. Consider 2 sets of points P0,P1 describing lines (2d) and a point p, \n",
    "#how to compute distance from p to each line i (P0[i],P1[i])\n",
    "def distance(P0, P1, p):\n",
    "    T = P1 - P0\n",
    "    L = (T**2).sum(axis=1)\n",
    "    U = -((P0[:,0]-p[...,0])*T[:,0] + (P0[:,1]-p[...,1])*T[:,1]) / L\n",
    "    U = U.reshape(len(U),1)\n",
    "    D = P0 + U*T - p\n",
    "    return np.sqrt((D**2).sum(axis=1))\n",
    "\n",
    "P0 = np.random.uniform(-10,10,(10,2))\n",
    "P1 = np.random.uniform(-10,10,(10,2))\n",
    "p  = np.random.uniform(-10,10,( 1,2))\n",
    "print(distance(P0, P1, p))"
   ]
  },
  {
   "cell_type": "code",
   "execution_count": 154,
   "metadata": {},
   "outputs": [
    {
     "name": "stdout",
     "output_type": "stream",
     "text": [
      "[  8.25624584  10.9188285   11.58194362   3.7650409    2.52825989\n",
      "   4.61070722  17.31743372   6.44256448   8.25326806   3.59192036]\n"
     ]
    }
   ],
   "source": [
    "#79. Consider 2 sets of points P0,P1 describing lines (2d) and a set of points P, \n",
    "#how to compute distance from each point j (P[j]) to each line i (P0[i],P1[i])\n",
    "def distance(P0, P1, p):\n",
    "    T = P1 - P0\n",
    "    L = (T**2).sum(axis=1)\n",
    "    U = -((P0[:,0]-p[...,0])*T[:,0] + (P0[:,1]-p[...,1])*T[:,1]) / L\n",
    "    U = U.reshape(len(U),1)\n",
    "    D = P0 + U*T - p\n",
    "    return np.sqrt((D**2).sum(axis=1))\n",
    "\n",
    "P0 = np.random.uniform(-10,10,(10,2))\n",
    "P1 = np.random.uniform(-10,10,(10,2))\n",
    "p  = np.random.uniform(-10,10,( 1,2))\n",
    "print(distance(P0, P1, p))"
   ]
  },
  {
   "cell_type": "code",
   "execution_count": 21,
   "metadata": {
    "collapsed": true
   },
   "outputs": [],
   "source": [
    "# #80. Consider an arbitrary array, write a function that extract a subpart with a fixed shape and \n",
    "# #centered on a given element (pad with a fill value when necessary\n",
    "# Z = np.random.randint(0,10,(10,10))\n",
    "# shape = (5,5)\n",
    "# fill  = 0\n",
    "# position = (1,1)\n",
    "\n",
    "# R = np.ones(shape, dtype=Z.dtype)*fill\n",
    "# P  = np.array(list(position)).astype(int)\n",
    "# Rs = np.array(list(R.shape)).astype(int)\n",
    "# Zs = np.array(list(Z.shape)).astype(int)\n",
    "\n",
    "# R_start = np.zeros((len(shape),)).astype(int)\n",
    "# R_stop  = np.array(list(shape)).astype(int)\n",
    "# Z_start = (P-Rs//2)\n",
    "# Z_stop  = (P+Rs//2)+Rs%2\n",
    "\n",
    "# R_start = (R_start - np.minimum(Z_start,0)).tolist()\n",
    "# Z_start = (np.maximum(Z_start,0)).tolist()\n",
    "# R_stop = np.maximum(R_start, (R_stop - np.maximum(Z_stop-Zs,0))).tolist()\n",
    "# Z_stop = (np.minimum(Z_stop,Zs)).tolist()\n",
    "\n",
    "# r = [slice(start,stop) for start,stop in zip(R_start,R_stop)]\n",
    "# z = [slice(start,stop) for start,stop in zip(Z_start,Z_stop)]\n",
    "# R[r] = Z[z]\n",
    "# print(Z)\n",
    "# print(R)"
   ]
  },
  {
   "cell_type": "code",
   "execution_count": 22,
   "metadata": {},
   "outputs": [
    {
     "data": {
      "text/plain": [
       "array([[ 1,  2,  3,  4],\n",
       "       [ 2,  3,  4,  5],\n",
       "       [ 3,  4,  5,  6],\n",
       "       [ 4,  5,  6,  7],\n",
       "       [ 5,  6,  7,  8],\n",
       "       [ 6,  7,  8,  9],\n",
       "       [ 7,  8,  9, 10],\n",
       "       [ 8,  9, 10, 11],\n",
       "       [ 9, 10, 11, 12],\n",
       "       [10, 11, 12, 13],\n",
       "       [11, 12, 13, 14]], dtype=uint32)"
      ]
     },
     "execution_count": 22,
     "metadata": {},
     "output_type": "execute_result"
    }
   ],
   "source": [
    "#81. Consider an array Z = [1,2,3,4,5,6,7,8,9,10,11,12,13,14], \n",
    "#how to generate an array R = [[1,2,3,4], [2,3,4,5], [3,4,5,6], ..., [11,12,13,14]]\n",
    "x = np.arange(1,15,dtype=np.uint32)\n",
    "y = stride_tricks.as_strided(x,(11,4),(4,4))\n",
    "y"
   ]
  },
  {
   "cell_type": "code",
   "execution_count": 155,
   "metadata": {},
   "outputs": [
    {
     "data": {
      "text/plain": [
       "10"
      ]
     },
     "execution_count": 155,
     "metadata": {},
     "output_type": "execute_result"
    }
   ],
   "source": [
    "#82. Compute a matrix rank\n",
    "a = np.random.uniform(0,1,(10,10))\n",
    "b, c, e = np.linalg.svd(a)\n",
    "rank = np.sum(c > 1e-10)\n",
    "rank"
   ]
  },
  {
   "cell_type": "code",
   "execution_count": 24,
   "metadata": {},
   "outputs": [
    {
     "name": "stdout",
     "output_type": "stream",
     "text": [
      "2\n"
     ]
    }
   ],
   "source": [
    "#83. How to find the most frequent value in an array?\n",
    "Z = np.random.randint(0,10,50)\n",
    "print(np.bincount(Z).argmax())"
   ]
  },
  {
   "cell_type": "code",
   "execution_count": 156,
   "metadata": {},
   "outputs": [
    {
     "data": {
      "text/plain": [
       "array([[[[1, 2, 2],\n",
       "         [1, 2, 0],\n",
       "         [0, 4, 0]],\n",
       "\n",
       "        [[2, 2, 1],\n",
       "         [2, 0, 3],\n",
       "         [4, 0, 3]],\n",
       "\n",
       "        [[2, 1, 2],\n",
       "         [0, 3, 1],\n",
       "         [0, 3, 4]],\n",
       "\n",
       "        [[1, 2, 4],\n",
       "         [3, 1, 0],\n",
       "         [3, 4, 4]],\n",
       "\n",
       "        [[2, 4, 1],\n",
       "         [1, 0, 2],\n",
       "         [4, 4, 2]],\n",
       "\n",
       "        [[4, 1, 2],\n",
       "         [0, 2, 3],\n",
       "         [4, 2, 4]],\n",
       "\n",
       "        [[1, 2, 4],\n",
       "         [2, 3, 0],\n",
       "         [2, 4, 4]],\n",
       "\n",
       "        [[2, 4, 3],\n",
       "         [3, 0, 1],\n",
       "         [4, 4, 4]]],\n",
       "\n",
       "\n",
       "       [[[1, 2, 0],\n",
       "         [0, 4, 0],\n",
       "         [2, 1, 4]],\n",
       "\n",
       "        [[2, 0, 3],\n",
       "         [4, 0, 3],\n",
       "         [1, 4, 2]],\n",
       "\n",
       "        [[0, 3, 1],\n",
       "         [0, 3, 4],\n",
       "         [4, 2, 4]],\n",
       "\n",
       "        [[3, 1, 0],\n",
       "         [3, 4, 4],\n",
       "         [2, 4, 3]],\n",
       "\n",
       "        [[1, 0, 2],\n",
       "         [4, 4, 2],\n",
       "         [4, 3, 3]],\n",
       "\n",
       "        [[0, 2, 3],\n",
       "         [4, 2, 4],\n",
       "         [3, 3, 3]],\n",
       "\n",
       "        [[2, 3, 0],\n",
       "         [2, 4, 4],\n",
       "         [3, 3, 4]],\n",
       "\n",
       "        [[3, 0, 1],\n",
       "         [4, 4, 4],\n",
       "         [3, 4, 2]]],\n",
       "\n",
       "\n",
       "       [[[0, 4, 0],\n",
       "         [2, 1, 4],\n",
       "         [3, 4, 4]],\n",
       "\n",
       "        [[4, 0, 3],\n",
       "         [1, 4, 2],\n",
       "         [4, 4, 0]],\n",
       "\n",
       "        [[0, 3, 4],\n",
       "         [4, 2, 4],\n",
       "         [4, 0, 1]],\n",
       "\n",
       "        [[3, 4, 4],\n",
       "         [2, 4, 3],\n",
       "         [0, 1, 1]],\n",
       "\n",
       "        [[4, 4, 2],\n",
       "         [4, 3, 3],\n",
       "         [1, 1, 3]],\n",
       "\n",
       "        [[4, 2, 4],\n",
       "         [3, 3, 3],\n",
       "         [1, 3, 4]],\n",
       "\n",
       "        [[2, 4, 4],\n",
       "         [3, 3, 4],\n",
       "         [3, 4, 1]],\n",
       "\n",
       "        [[4, 4, 4],\n",
       "         [3, 4, 2],\n",
       "         [4, 1, 2]]],\n",
       "\n",
       "\n",
       "       [[[2, 1, 4],\n",
       "         [3, 4, 4],\n",
       "         [2, 2, 4]],\n",
       "\n",
       "        [[1, 4, 2],\n",
       "         [4, 4, 0],\n",
       "         [2, 4, 2]],\n",
       "\n",
       "        [[4, 2, 4],\n",
       "         [4, 0, 1],\n",
       "         [4, 2, 4]],\n",
       "\n",
       "        [[2, 4, 3],\n",
       "         [0, 1, 1],\n",
       "         [2, 4, 1]],\n",
       "\n",
       "        [[4, 3, 3],\n",
       "         [1, 1, 3],\n",
       "         [4, 1, 1]],\n",
       "\n",
       "        [[3, 3, 3],\n",
       "         [1, 3, 4],\n",
       "         [1, 1, 0]],\n",
       "\n",
       "        [[3, 3, 4],\n",
       "         [3, 4, 1],\n",
       "         [1, 0, 0]],\n",
       "\n",
       "        [[3, 4, 2],\n",
       "         [4, 1, 2],\n",
       "         [0, 0, 0]]],\n",
       "\n",
       "\n",
       "       [[[3, 4, 4],\n",
       "         [2, 2, 4],\n",
       "         [2, 1, 1]],\n",
       "\n",
       "        [[4, 4, 0],\n",
       "         [2, 4, 2],\n",
       "         [1, 1, 3]],\n",
       "\n",
       "        [[4, 0, 1],\n",
       "         [4, 2, 4],\n",
       "         [1, 3, 0]],\n",
       "\n",
       "        [[0, 1, 1],\n",
       "         [2, 4, 1],\n",
       "         [3, 0, 4]],\n",
       "\n",
       "        [[1, 1, 3],\n",
       "         [4, 1, 1],\n",
       "         [0, 4, 3]],\n",
       "\n",
       "        [[1, 3, 4],\n",
       "         [1, 1, 0],\n",
       "         [4, 3, 1]],\n",
       "\n",
       "        [[3, 4, 1],\n",
       "         [1, 0, 0],\n",
       "         [3, 1, 2]],\n",
       "\n",
       "        [[4, 1, 2],\n",
       "         [0, 0, 0],\n",
       "         [1, 2, 2]]],\n",
       "\n",
       "\n",
       "       [[[2, 2, 4],\n",
       "         [2, 1, 1],\n",
       "         [2, 0, 3]],\n",
       "\n",
       "        [[2, 4, 2],\n",
       "         [1, 1, 3],\n",
       "         [0, 3, 4]],\n",
       "\n",
       "        [[4, 2, 4],\n",
       "         [1, 3, 0],\n",
       "         [3, 4, 2]],\n",
       "\n",
       "        [[2, 4, 1],\n",
       "         [3, 0, 4],\n",
       "         [4, 2, 0]],\n",
       "\n",
       "        [[4, 1, 1],\n",
       "         [0, 4, 3],\n",
       "         [2, 0, 4]],\n",
       "\n",
       "        [[1, 1, 0],\n",
       "         [4, 3, 1],\n",
       "         [0, 4, 4]],\n",
       "\n",
       "        [[1, 0, 0],\n",
       "         [3, 1, 2],\n",
       "         [4, 4, 1]],\n",
       "\n",
       "        [[0, 0, 0],\n",
       "         [1, 2, 2],\n",
       "         [4, 1, 2]]],\n",
       "\n",
       "\n",
       "       [[[2, 1, 1],\n",
       "         [2, 0, 3],\n",
       "         [0, 1, 4]],\n",
       "\n",
       "        [[1, 1, 3],\n",
       "         [0, 3, 4],\n",
       "         [1, 4, 0]],\n",
       "\n",
       "        [[1, 3, 0],\n",
       "         [3, 4, 2],\n",
       "         [4, 0, 0]],\n",
       "\n",
       "        [[3, 0, 4],\n",
       "         [4, 2, 0],\n",
       "         [0, 0, 1]],\n",
       "\n",
       "        [[0, 4, 3],\n",
       "         [2, 0, 4],\n",
       "         [0, 1, 1]],\n",
       "\n",
       "        [[4, 3, 1],\n",
       "         [0, 4, 4],\n",
       "         [1, 1, 4]],\n",
       "\n",
       "        [[3, 1, 2],\n",
       "         [4, 4, 1],\n",
       "         [1, 4, 1]],\n",
       "\n",
       "        [[1, 2, 2],\n",
       "         [4, 1, 2],\n",
       "         [4, 1, 0]]],\n",
       "\n",
       "\n",
       "       [[[2, 0, 3],\n",
       "         [0, 1, 4],\n",
       "         [3, 1, 2]],\n",
       "\n",
       "        [[0, 3, 4],\n",
       "         [1, 4, 0],\n",
       "         [1, 2, 0]],\n",
       "\n",
       "        [[3, 4, 2],\n",
       "         [4, 0, 0],\n",
       "         [2, 0, 1]],\n",
       "\n",
       "        [[4, 2, 0],\n",
       "         [0, 0, 1],\n",
       "         [0, 1, 1]],\n",
       "\n",
       "        [[2, 0, 4],\n",
       "         [0, 1, 1],\n",
       "         [1, 1, 4]],\n",
       "\n",
       "        [[0, 4, 4],\n",
       "         [1, 1, 4],\n",
       "         [1, 4, 3]],\n",
       "\n",
       "        [[4, 4, 1],\n",
       "         [1, 4, 1],\n",
       "         [4, 3, 0]],\n",
       "\n",
       "        [[4, 1, 2],\n",
       "         [4, 1, 0],\n",
       "         [3, 0, 4]]]])"
      ]
     },
     "execution_count": 156,
     "metadata": {},
     "output_type": "execute_result"
    }
   ],
   "source": [
    "#84. Extract all the contiguous 3x3 blocks from a random 10x10 matrix\n",
    "x = np.random.randint(0,5,(10,10))\n",
    "n = 3\n",
    "a = 1 + (x.shape[0]-3)\n",
    "b = 1 + (x.shape[1]-3)\n",
    "z = stride_tricks.as_strided(x, shape=(a, b, n, n), strides=x.strides + x.strides)\n",
    "z"
   ]
  },
  {
   "cell_type": "code",
   "execution_count": 26,
   "metadata": {},
   "outputs": [
    {
     "data": {
      "text/plain": [
       "Symetric([[ 3,  9,  8,  7,  6],\n",
       "          [ 9,  8,  0,  7, 12],\n",
       "          [ 8,  0,  1, 42,  8],\n",
       "          [ 7,  7, 42,  1, 14],\n",
       "          [ 6, 12,  8, 14,  1]])"
      ]
     },
     "execution_count": 26,
     "metadata": {},
     "output_type": "execute_result"
    }
   ],
   "source": [
    "#85. Create a 2D array subclass such that Z[i,j] == Z[j,i]\n",
    "class Symetric(np.ndarray):\n",
    "    def __setitem__(self, index, value):\n",
    "        i,j = index\n",
    "        super(Symetric, self).__setitem__((i,j), value)\n",
    "        super(Symetric, self).__setitem__((j,i), value)\n",
    "\n",
    "def symetric(Z):\n",
    "    return np.asarray(Z + Z.T - np.diag(Z.diagonal())).view(Symetric)\n",
    "\n",
    "S = symetric(np.random.randint(0,10,(5,5)))\n",
    "S[2,3] = 42\n",
    "S"
   ]
  },
  {
   "cell_type": "code",
   "execution_count": 27,
   "metadata": {},
   "outputs": [
    {
     "data": {
      "text/plain": [
       "array([[ 200.],\n",
       "       [ 200.],\n",
       "       [ 200.],\n",
       "       [ 200.],\n",
       "       [ 200.],\n",
       "       [ 200.],\n",
       "       [ 200.],\n",
       "       [ 200.],\n",
       "       [ 200.],\n",
       "       [ 200.],\n",
       "       [ 200.],\n",
       "       [ 200.],\n",
       "       [ 200.],\n",
       "       [ 200.],\n",
       "       [ 200.],\n",
       "       [ 200.],\n",
       "       [ 200.],\n",
       "       [ 200.],\n",
       "       [ 200.],\n",
       "       [ 200.]])"
      ]
     },
     "execution_count": 27,
     "metadata": {},
     "output_type": "execute_result"
    }
   ],
   "source": [
    "#86. Consider a set of p matrices wich shape (n,n) and a set of p vectors with shape (n,1). \n",
    "#How to compute the sum of of the p matrix products at once? (result has shape (n,1))\n",
    "a, b = 10, 20\n",
    "C = np.ones((a,b,b))\n",
    "D = np.ones((a,b,1))\n",
    "S = np.tensordot(C, D, axes=[[0, 2], [0, 1]])\n",
    "S"
   ]
  },
  {
   "cell_type": "code",
   "execution_count": 28,
   "metadata": {},
   "outputs": [
    {
     "data": {
      "text/plain": [
       "array([[ 16.,  16.,  16.,  16.],\n",
       "       [ 16.,  16.,  16.,  16.],\n",
       "       [ 16.,  16.,  16.,  16.],\n",
       "       [ 16.,  16.,  16.,  16.]])"
      ]
     },
     "execution_count": 28,
     "metadata": {},
     "output_type": "execute_result"
    }
   ],
   "source": [
    "#87. Consider a 16x16 array, how to get the block-sum (block size is 4x4)?\n",
    "Z = np.ones((16,16))\n",
    "k = 4\n",
    "S = np.add.reduceat(np.add.reduceat(Z, np.arange(0, Z.shape[0], k), axis=0),\n",
    "                                       np.arange(0, Z.shape[1], k), axis=1)\n",
    "S"
   ]
  },
  {
   "cell_type": "code",
   "execution_count": 29,
   "metadata": {
    "collapsed": true
   },
   "outputs": [],
   "source": [
    "#88. How to implement the Game of Life using numpy arrays?"
   ]
  },
  {
   "cell_type": "code",
   "execution_count": 30,
   "metadata": {},
   "outputs": [
    {
     "data": {
      "text/plain": [
       "array([9, 8, 7, 6, 5])"
      ]
     },
     "execution_count": 30,
     "metadata": {},
     "output_type": "execute_result"
    }
   ],
   "source": [
    "#89. How to get the n largest values of an arrayZ = np.arange(10000)\n",
    "x = np.arange(10)\n",
    "np.random.shuffle(x)\n",
    "n = 5\n",
    "x[np.argpartition(-x,n)[:n]]\n"
   ]
  },
  {
   "cell_type": "code",
   "execution_count": 31,
   "metadata": {
    "collapsed": true
   },
   "outputs": [],
   "source": [
    "#90. Given an arbitrary number of vectors, \n",
    "#build the cartesian product (every combinations of every item)\n",
    "def cartesian(arrays):\n",
    "    arrays = [np.asarray(a) for a in arrays]\n",
    "    shape = (len(x) for x in arrays)\n",
    "\n",
    "    ix = np.indices(shape, dtype=int)\n",
    "    ix = ix.reshape(len(arrays), -1).T\n",
    "\n",
    "    for n, arr in enumerate(arrays):\n",
    "        ix[:, n] = arrays[n][ix[:, n]]\n",
    "\n",
    "    return ix"
   ]
  },
  {
   "cell_type": "code",
   "execution_count": 32,
   "metadata": {
    "collapsed": true
   },
   "outputs": [],
   "source": [
    "#91. How to create a record array from a regular array?\n",
    "Z = np.array([(\"Hello\", 2.5, 3),\n",
    "              (\"World\", 3.6, 2)])\n",
    "R = np.core.records.fromarrays(Z.T, \n",
    "                               names='col1, col2, col3',\n",
    "                               formats = 'S8, f8, i8')"
   ]
  },
  {
   "cell_type": "code",
   "execution_count": 33,
   "metadata": {
    "scrolled": true
   },
   "outputs": [
    {
     "ename": "TypeError",
     "evalue": "'float' object cannot be interpreted as an integer",
     "output_type": "error",
     "traceback": [
      "\u001b[0;31m---------------------------------------------------------------------------\u001b[0m",
      "\u001b[0;31mTypeError\u001b[0m                                 Traceback (most recent call last)",
      "\u001b[0;32m<ipython-input-33-fd00cad796f3>\u001b[0m in \u001b[0;36m<module>\u001b[0;34m()\u001b[0m\n\u001b[1;32m      1\u001b[0m \u001b[0;31m#92. Consider a large vector Z, compute Z to the power of 3 using 3 different methods\u001b[0m\u001b[0;34m\u001b[0m\u001b[0;34m\u001b[0m\u001b[0m\n\u001b[0;32m----> 2\u001b[0;31m \u001b[0mx\u001b[0m \u001b[0;34m=\u001b[0m \u001b[0mnp\u001b[0m\u001b[0;34m.\u001b[0m\u001b[0mrandom\u001b[0m\u001b[0;34m.\u001b[0m\u001b[0mrand\u001b[0m\u001b[0;34m(\u001b[0m\u001b[0;36m5e7\u001b[0m\u001b[0;34m)\u001b[0m\u001b[0;34m\u001b[0m\u001b[0m\n\u001b[0m\u001b[1;32m      3\u001b[0m \u001b[0;34m\u001b[0m\u001b[0m\n\u001b[1;32m      4\u001b[0m \u001b[0mget_ipython\u001b[0m\u001b[0;34m(\u001b[0m\u001b[0;34m)\u001b[0m\u001b[0;34m.\u001b[0m\u001b[0mmagic\u001b[0m\u001b[0;34m(\u001b[0m\u001b[0;34m'timeit np.power(x,3)'\u001b[0m\u001b[0;34m)\u001b[0m\u001b[0;34m\u001b[0m\u001b[0m\n\u001b[1;32m      5\u001b[0m \u001b[0mget_ipython\u001b[0m\u001b[0;34m(\u001b[0m\u001b[0;34m)\u001b[0m\u001b[0;34m.\u001b[0m\u001b[0mmagic\u001b[0m\u001b[0;34m(\u001b[0m\u001b[0;34m'timeit x*x*x'\u001b[0m\u001b[0;34m)\u001b[0m\u001b[0;34m\u001b[0m\u001b[0m\n",
      "\u001b[0;32mmtrand.pyx\u001b[0m in \u001b[0;36mmtrand.RandomState.rand\u001b[0;34m()\u001b[0m\n",
      "\u001b[0;32mmtrand.pyx\u001b[0m in \u001b[0;36mmtrand.RandomState.random_sample\u001b[0;34m()\u001b[0m\n",
      "\u001b[0;32mmtrand.pyx\u001b[0m in \u001b[0;36mmtrand.cont0_array\u001b[0;34m()\u001b[0m\n",
      "\u001b[0;31mTypeError\u001b[0m: 'float' object cannot be interpreted as an integer"
     ]
    }
   ],
   "source": [
    "#92. Consider a large vector Z, compute Z to the power of 3 using 3 different methods\n",
    "x = np.random.rand(5e7)\n",
    "\n",
    "%timeit np.power(x,3)\n",
    "%timeit x*x*x\n",
    "%timeit np.einsum('i,i,i->i',x,x,x)"
   ]
  },
  {
   "cell_type": "code",
   "execution_count": 34,
   "metadata": {},
   "outputs": [
    {
     "name": "stdout",
     "output_type": "stream",
     "text": [
      "[0 1 2 3 4 6 7]\n"
     ]
    }
   ],
   "source": [
    "#93. Consider two arrays A and B of shape (8,3) and (2,2). How to find rows of A that contain elements of each row of B \n",
    "#regardless of the order of the elements in B?\n",
    "A = np.random.randint(0,5,(8,3))\n",
    "B = np.random.randint(0,5,(2,2))\n",
    "\n",
    "C = (A[..., np.newaxis, np.newaxis] == B)\n",
    "rows = np.where(C.any((3,1)).all(1))[0]\n",
    "print(rows)"
   ]
  },
  {
   "cell_type": "code",
   "execution_count": 35,
   "metadata": {},
   "outputs": [
    {
     "name": "stdout",
     "output_type": "stream",
     "text": [
      "[[0 4 1]\n",
      " [2 0 1]\n",
      " [3 3 3]\n",
      " [0 0 0]\n",
      " [1 0 3]\n",
      " [0 2 0]\n",
      " [4 0 3]\n",
      " [0 3 4]\n",
      " [4 2 3]\n",
      " [0 4 1]]\n",
      "[[0 4 1]\n",
      " [2 0 1]\n",
      " [1 0 3]\n",
      " [0 2 0]\n",
      " [4 0 3]\n",
      " [0 3 4]\n",
      " [4 2 3]\n",
      " [0 4 1]]\n",
      "[[0 4 1]\n",
      " [2 0 1]\n",
      " [1 0 3]\n",
      " [0 2 0]\n",
      " [4 0 3]\n",
      " [0 3 4]\n",
      " [4 2 3]\n",
      " [0 4 1]]\n"
     ]
    }
   ],
   "source": [
    "#94. Considering a 10x3 matrix, extract rows with unequal values (e.g. [2,2,3])\n",
    "Z = np.random.randint(0,5,(10,3))\n",
    "print(Z)\n",
    "# solution for arrays of all dtypes (including string arrays and record arrays)\n",
    "E = np.all(Z[:,1:] == Z[:,:-1], axis=1)\n",
    "U = Z[~E]\n",
    "print(U)\n",
    "# soluiton for numerical arrays only, will work for any number of columns in Z\n",
    "U = Z[Z.max(axis=1) != Z.min(axis=1),:]\n",
    "print(U)\n"
   ]
  },
  {
   "cell_type": "code",
   "execution_count": 36,
   "metadata": {},
   "outputs": [
    {
     "name": "stdout",
     "output_type": "stream",
     "text": [
      "[[0 0 0 0 0 0 0 0]\n",
      " [0 0 0 0 0 0 0 1]\n",
      " [0 0 0 0 0 0 1 0]\n",
      " [0 0 0 0 0 0 1 1]\n",
      " [0 0 0 0 1 1 1 1]\n",
      " [0 0 0 1 0 0 0 0]\n",
      " [0 0 1 0 0 0 0 0]\n",
      " [0 1 0 0 0 0 0 0]\n",
      " [1 0 0 0 0 0 0 0]]\n"
     ]
    }
   ],
   "source": [
    "#95. Convert a vector of ints into a matrix binary representation\n",
    "I = np.array([0, 1, 2, 3, 15, 16, 32, 64, 128])\n",
    "B = ((I.reshape(-1,1) & (2**np.arange(8))) != 0).astype(int)\n",
    "print(B[:,::-1])"
   ]
  },
  {
   "cell_type": "code",
   "execution_count": 37,
   "metadata": {},
   "outputs": [
    {
     "name": "stdout",
     "output_type": "stream",
     "text": [
      "[[0 0 0]\n",
      " [0 0 1]\n",
      " [0 1 1]\n",
      " [1 0 0]\n",
      " [1 1 1]]\n"
     ]
    }
   ],
   "source": [
    "#96. Given a two dimensional array, how to extract unique rows?\n",
    "Z = np.random.randint(0,2,(6,3))\n",
    "T = np.ascontiguousarray(Z).view(np.dtype((np.void, Z.dtype.itemsize * Z.shape[1])))\n",
    "_, idx = np.unique(T, return_index=True)\n",
    "uZ = Z[idx]\n",
    "print(uZ)"
   ]
  },
  {
   "cell_type": "code",
   "execution_count": 38,
   "metadata": {},
   "outputs": [
    {
     "data": {
      "text/plain": [
       "array([[ 0.0568931 ,  0.24699688,  0.37821301,  0.15559426,  0.24022708,\n",
       "         0.35573126,  0.23436773,  0.29593574,  0.33860846,  0.15620967],\n",
       "       [ 0.02123721,  0.09219966,  0.14118037,  0.05808064,  0.08967261,\n",
       "         0.13278832,  0.08748542,  0.11046769,  0.12639667,  0.05831036],\n",
       "       [ 0.01763991,  0.07658227,  0.11726629,  0.04824256,  0.07448326,\n",
       "         0.11029575,  0.07266655,  0.09175593,  0.10498676,  0.04843336],\n",
       "       [ 0.00971461,  0.04217522,  0.06458065,  0.02656804,  0.04101926,\n",
       "         0.06074184,  0.04001877,  0.05053163,  0.05781809,  0.02667312],\n",
       "       [ 0.0435361 ,  0.18900855,  0.28941859,  0.11906484,  0.18382811,\n",
       "         0.27221497,  0.17934439,  0.22645785,  0.25911215,  0.11953577],\n",
       "       [ 0.12882466,  0.55928211,  0.85639853,  0.35231653,  0.54395304,\n",
       "         0.80549247,  0.53068556,  0.67009577,  0.76672083,  0.35371002],\n",
       "       [ 0.09788266,  0.42494984,  0.65070277,  0.26769469,  0.41330261,\n",
       "         0.61202368,  0.40322181,  0.5091475 ,  0.58256448,  0.26875348],\n",
       "       [ 0.09745775,  0.42310512,  0.64787806,  0.26653263,  0.41150846,\n",
       "         0.60936688,  0.40147142,  0.50693728,  0.58003556,  0.26758682],\n",
       "       [ 0.02263707,  0.09827705,  0.15048634,  0.06190906,  0.09558342,\n",
       "         0.14154113,  0.09325206,  0.11774922,  0.13472818,  0.06215392],\n",
       "       [ 0.02579826,  0.11200111,  0.17150126,  0.07055445,  0.10893133,\n",
       "         0.16130688,  0.1062744 ,  0.13419251,  0.15354252,  0.07083351]])"
      ]
     },
     "execution_count": 38,
     "metadata": {},
     "output_type": "execute_result"
    }
   ],
   "source": [
    "#97. Considering 2 vectors A & B, \n",
    "#write the einsum equivalent of inner, outer, sum, and mul function\n",
    "A = np.random.uniform(0,1,10)\n",
    "B = np.random.uniform(0,1,10)\n",
    "\n",
    "np.einsum('i->', A)       # np.sum(A)\n",
    "np.einsum('i,i->i', A, B) # A * B\n",
    "np.einsum('i,i', A, B)    # np.inner(A, B)\n",
    "np.einsum('i,j->ij', A, B)    # np.outer(A, B)"
   ]
  },
  {
   "cell_type": "code",
   "execution_count": 39,
   "metadata": {
    "collapsed": true
   },
   "outputs": [],
   "source": [
    "#98. Considering a path described by two vectors (X,Y), \n",
    "#how to sample it using equidistant samples\n",
    "# phi = np.arange(0, 10*np.pi, 0.1)\n",
    "# a = 1\n",
    "# x = a*phi*np.cos(phi)\n",
    "# y = a*phi*np.sin(phi)\n",
    "\n",
    "# dr = (np.diff(x)**2 + np.diff(y)**2)**.5 # segment lengths\n",
    "# r = np.zeros_like(x)\n",
    "# r[1:] = np.cumsum(dr)                # integrate path\n",
    "# r_int = np.linspace(0, r.max(), 200) # regular spaced path\n",
    "# x_int = np.interp(r_int, r, x)       # integrate path\n",
    "# y_int = np.interp(r_int, r, y)"
   ]
  },
  {
   "cell_type": "code",
   "execution_count": 40,
   "metadata": {},
   "outputs": [
    {
     "name": "stdout",
     "output_type": "stream",
     "text": [
      "[[ 2.  0.  1.  1.]]\n"
     ]
    }
   ],
   "source": [
    "#99. Given an integer n and a 2D array X, \n",
    "#select from X the rows which can be interpreted as draws from a multinomial distribution \n",
    "#with n degrees, i.e., the rows which only contain integers and which sum to n.\n",
    "X = np.asarray([[1.0, 0.0, 3.0, 8.0],\n",
    "                [2.0, 0.0, 1.0, 1.0],\n",
    "                [1.5, 2.5, 1.0, 0.0]])\n",
    "n = 4\n",
    "M = np.logical_and.reduce(np.mod(X, 1) == 0, axis=-1)\n",
    "M &= (X.sum(axis=-1) == n)\n",
    "print(X[M])"
   ]
  },
  {
   "cell_type": "code",
   "execution_count": null,
   "metadata": {
    "collapsed": true
   },
   "outputs": [],
   "source": [
    "#100. Compute bootstrapped 95% confidence intervals for the mean of a 1D array X \n",
    "#(i.e., resample the elements of an array with replacement N times, \n",
    "#compute the mean of each sample, and then compute percentiles over the means).\n",
    "X = np.random.randn(100) # random 1D array\n",
    "N = 1000 # number of bootstrap samples\n",
    "idx = np.random.randint(0, X.size, (N, X.size))\n",
    "means = X[idx].mean(axis=1)\n",
    "confint = np.percentile(means, [2.5, 97.5])\n",
    "print(confint)"
   ]
  }
 ],
 "metadata": {
  "kernelspec": {
   "display_name": "Python 3",
   "language": "python",
   "name": "python3"
  },
  "language_info": {
   "codemirror_mode": {
    "name": "ipython",
    "version": 3
   },
   "file_extension": ".py",
   "mimetype": "text/x-python",
   "name": "python",
   "nbconvert_exporter": "python",
   "pygments_lexer": "ipython3",
   "version": "3.6.3"
  }
 },
 "nbformat": 4,
 "nbformat_minor": 2
}
